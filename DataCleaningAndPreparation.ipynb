{
 "cells": [
  {
   "cell_type": "markdown",
   "id": "f805ce8c",
   "metadata": {},
   "source": [
    "# PART 1: Cleaning and Preparing Dataset"
   ]
  },
  {
   "cell_type": "markdown",
   "id": "18339c8e",
   "metadata": {},
   "source": [
    "\n",
    "### Question: How can we predict the potential sucess of a movie?\n",
    "\n",
    "This predictive approach empowers us to anticipate the reception and success of upcoming films, aiding decision-making processes within the realm of film investment, allowing investors to make informed decisions on which projects to support financially."
   ]
  },
  {
   "cell_type": "markdown",
   "id": "5c99158f",
   "metadata": {},
   "source": [
    "### Dataset: https://www.kaggle.com/datasets/victorsoeiro/netflix-tv-shows-and-movies"
   ]
  },
  {
   "cell_type": "code",
   "execution_count": 1,
   "id": "52ce5814",
   "metadata": {},
   "outputs": [],
   "source": [
    "# Basic Libraries\n",
    "import numpy as np\n",
    "import pandas as pd\n",
    "import seaborn as sb\n",
    "import matplotlib.pyplot as plt # we only need pyplot\n",
    "from sklearn.model_selection import train_test_split\n",
    "from sklearn.ensemble import RandomForestRegressor\n",
    "from sklearn.metrics import mean_absolute_error, mean_squared_error\n",
    "from sklearn.preprocessing import OneHotEncoder, StandardScaler\n",
    "from sklearn import metrics\n",
    "from sklearn.metrics import r2_score\n",
    "from sklearn.model_selection import GridSearchCV\n",
    "from sklearn.model_selection import cross_val_score\n",
    "from sklearn.linear_model import LogisticRegression\n",
    "from sklearn.metrics import confusion_matrix\n",
    "sb.set() # set the default Seaborn style for graphics"
   ]
  },
  {
   "cell_type": "code",
   "execution_count": 2,
   "id": "783a44fb",
   "metadata": {},
   "outputs": [
    {
     "data": {
      "text/html": [
       "<div>\n",
       "<style scoped>\n",
       "    .dataframe tbody tr th:only-of-type {\n",
       "        vertical-align: middle;\n",
       "    }\n",
       "\n",
       "    .dataframe tbody tr th {\n",
       "        vertical-align: top;\n",
       "    }\n",
       "\n",
       "    .dataframe thead th {\n",
       "        text-align: right;\n",
       "    }\n",
       "</style>\n",
       "<table border=\"1\" class=\"dataframe\">\n",
       "  <thead>\n",
       "    <tr style=\"text-align: right;\">\n",
       "      <th></th>\n",
       "      <th>name</th>\n",
       "      <th>rating</th>\n",
       "      <th>genre</th>\n",
       "      <th>year</th>\n",
       "      <th>released</th>\n",
       "      <th>score</th>\n",
       "      <th>votes</th>\n",
       "      <th>director</th>\n",
       "      <th>writer</th>\n",
       "      <th>star</th>\n",
       "      <th>country</th>\n",
       "      <th>budget</th>\n",
       "      <th>gross</th>\n",
       "      <th>company</th>\n",
       "      <th>runtime</th>\n",
       "    </tr>\n",
       "  </thead>\n",
       "  <tbody>\n",
       "    <tr>\n",
       "      <th>0</th>\n",
       "      <td>The Shining</td>\n",
       "      <td>R</td>\n",
       "      <td>Drama</td>\n",
       "      <td>1980</td>\n",
       "      <td>June 13, 1980 (United States)</td>\n",
       "      <td>8.4</td>\n",
       "      <td>927000.0</td>\n",
       "      <td>Stanley Kubrick</td>\n",
       "      <td>Stephen King</td>\n",
       "      <td>Jack Nicholson</td>\n",
       "      <td>United Kingdom</td>\n",
       "      <td>19000000.0</td>\n",
       "      <td>46998772.0</td>\n",
       "      <td>Warner Bros.</td>\n",
       "      <td>146.0</td>\n",
       "    </tr>\n",
       "    <tr>\n",
       "      <th>1</th>\n",
       "      <td>The Blue Lagoon</td>\n",
       "      <td>R</td>\n",
       "      <td>Adventure</td>\n",
       "      <td>1980</td>\n",
       "      <td>July 2, 1980 (United States)</td>\n",
       "      <td>5.8</td>\n",
       "      <td>65000.0</td>\n",
       "      <td>Randal Kleiser</td>\n",
       "      <td>Henry De Vere Stacpoole</td>\n",
       "      <td>Brooke Shields</td>\n",
       "      <td>United States</td>\n",
       "      <td>4500000.0</td>\n",
       "      <td>58853106.0</td>\n",
       "      <td>Columbia Pictures</td>\n",
       "      <td>104.0</td>\n",
       "    </tr>\n",
       "    <tr>\n",
       "      <th>2</th>\n",
       "      <td>Star Wars: Episode V - The Empire Strikes Back</td>\n",
       "      <td>PG</td>\n",
       "      <td>Action</td>\n",
       "      <td>1980</td>\n",
       "      <td>June 20, 1980 (United States)</td>\n",
       "      <td>8.7</td>\n",
       "      <td>1200000.0</td>\n",
       "      <td>Irvin Kershner</td>\n",
       "      <td>Leigh Brackett</td>\n",
       "      <td>Mark Hamill</td>\n",
       "      <td>United States</td>\n",
       "      <td>18000000.0</td>\n",
       "      <td>538375067.0</td>\n",
       "      <td>Lucasfilm</td>\n",
       "      <td>124.0</td>\n",
       "    </tr>\n",
       "    <tr>\n",
       "      <th>3</th>\n",
       "      <td>Airplane!</td>\n",
       "      <td>PG</td>\n",
       "      <td>Comedy</td>\n",
       "      <td>1980</td>\n",
       "      <td>July 2, 1980 (United States)</td>\n",
       "      <td>7.7</td>\n",
       "      <td>221000.0</td>\n",
       "      <td>Jim Abrahams</td>\n",
       "      <td>Jim Abrahams</td>\n",
       "      <td>Robert Hays</td>\n",
       "      <td>United States</td>\n",
       "      <td>3500000.0</td>\n",
       "      <td>83453539.0</td>\n",
       "      <td>Paramount Pictures</td>\n",
       "      <td>88.0</td>\n",
       "    </tr>\n",
       "    <tr>\n",
       "      <th>4</th>\n",
       "      <td>Caddyshack</td>\n",
       "      <td>R</td>\n",
       "      <td>Comedy</td>\n",
       "      <td>1980</td>\n",
       "      <td>July 25, 1980 (United States)</td>\n",
       "      <td>7.3</td>\n",
       "      <td>108000.0</td>\n",
       "      <td>Harold Ramis</td>\n",
       "      <td>Brian Doyle-Murray</td>\n",
       "      <td>Chevy Chase</td>\n",
       "      <td>United States</td>\n",
       "      <td>6000000.0</td>\n",
       "      <td>39846344.0</td>\n",
       "      <td>Orion Pictures</td>\n",
       "      <td>98.0</td>\n",
       "    </tr>\n",
       "  </tbody>\n",
       "</table>\n",
       "</div>"
      ],
      "text/plain": [
       "                                             name rating      genre  year  \\\n",
       "0                                     The Shining      R      Drama  1980   \n",
       "1                                 The Blue Lagoon      R  Adventure  1980   \n",
       "2  Star Wars: Episode V - The Empire Strikes Back     PG     Action  1980   \n",
       "3                                       Airplane!     PG     Comedy  1980   \n",
       "4                                      Caddyshack      R     Comedy  1980   \n",
       "\n",
       "                        released  score      votes         director  \\\n",
       "0  June 13, 1980 (United States)    8.4   927000.0  Stanley Kubrick   \n",
       "1   July 2, 1980 (United States)    5.8    65000.0   Randal Kleiser   \n",
       "2  June 20, 1980 (United States)    8.7  1200000.0   Irvin Kershner   \n",
       "3   July 2, 1980 (United States)    7.7   221000.0     Jim Abrahams   \n",
       "4  July 25, 1980 (United States)    7.3   108000.0     Harold Ramis   \n",
       "\n",
       "                    writer            star         country      budget  \\\n",
       "0             Stephen King  Jack Nicholson  United Kingdom  19000000.0   \n",
       "1  Henry De Vere Stacpoole  Brooke Shields   United States   4500000.0   \n",
       "2           Leigh Brackett     Mark Hamill   United States  18000000.0   \n",
       "3             Jim Abrahams     Robert Hays   United States   3500000.0   \n",
       "4       Brian Doyle-Murray     Chevy Chase   United States   6000000.0   \n",
       "\n",
       "         gross             company  runtime  \n",
       "0   46998772.0        Warner Bros.    146.0  \n",
       "1   58853106.0   Columbia Pictures    104.0  \n",
       "2  538375067.0           Lucasfilm    124.0  \n",
       "3   83453539.0  Paramount Pictures     88.0  \n",
       "4   39846344.0      Orion Pictures     98.0  "
      ]
     },
     "execution_count": 2,
     "metadata": {},
     "output_type": "execute_result"
    }
   ],
   "source": [
    "data = pd.read_csv('movies.csv')\n",
    "data.head()"
   ]
  },
  {
   "cell_type": "code",
   "execution_count": 3,
   "id": "de23ba37",
   "metadata": {},
   "outputs": [
    {
     "name": "stdout",
     "output_type": "stream",
     "text": [
      "<class 'pandas.core.frame.DataFrame'>\n",
      "RangeIndex: 7668 entries, 0 to 7667\n",
      "Data columns (total 15 columns):\n",
      " #   Column    Non-Null Count  Dtype  \n",
      "---  ------    --------------  -----  \n",
      " 0   name      7668 non-null   object \n",
      " 1   rating    7591 non-null   object \n",
      " 2   genre     7668 non-null   object \n",
      " 3   year      7668 non-null   int64  \n",
      " 4   released  7666 non-null   object \n",
      " 5   score     7665 non-null   float64\n",
      " 6   votes     7665 non-null   float64\n",
      " 7   director  7668 non-null   object \n",
      " 8   writer    7665 non-null   object \n",
      " 9   star      7667 non-null   object \n",
      " 10  country   7665 non-null   object \n",
      " 11  budget    5497 non-null   float64\n",
      " 12  gross     7479 non-null   float64\n",
      " 13  company   7651 non-null   object \n",
      " 14  runtime   7664 non-null   float64\n",
      "dtypes: float64(5), int64(1), object(9)\n",
      "memory usage: 898.7+ KB\n"
     ]
    }
   ],
   "source": [
    "data.info()"
   ]
  },
  {
   "cell_type": "markdown",
   "id": "cd558310",
   "metadata": {},
   "source": [
    "We start by loading our dataset and inspecting it to understand its structure and content. We identify the numeric and categorical predictors as shown below. "
   ]
  },
  {
   "cell_type": "markdown",
   "id": "d116eaa9",
   "metadata": {},
   "source": [
    "### Variables we are making use of:\n",
    "\n",
    "**Numeric Predictors**\n",
    "1. votes\n",
    "2. gross\n",
    "3. budget\n",
    "4. runtime\n",
    "\n",
    "**Categorical Predictors:**\n",
    "1. rating\n",
    "2. genre\n",
    "3. country\n",
    "4. company\n",
    "\n",
    "**Response Variable**\n",
    "\n",
    "Score\n"
   ]
  },
  {
   "cell_type": "markdown",
   "id": "ced63b47",
   "metadata": {},
   "source": [
    "### Cleaning dataset to include our chosen predictors"
   ]
  },
  {
   "cell_type": "markdown",
   "id": "8b6239f6",
   "metadata": {},
   "source": [
    "Our variables range from the budget of the movie, the genre to the votes and runtime of a movie. These were variables that we took as they may be variables that could predict if a movie is sucessful, for example, the larger the budget, the movie is more produced which attributes to a \"successful\" movie."
   ]
  },
  {
   "cell_type": "code",
   "execution_count": 4,
   "id": "5b3ddb3e",
   "metadata": {},
   "outputs": [
    {
     "data": {
      "text/plain": [
       "(7668, 9)"
      ]
     },
     "execution_count": 4,
     "metadata": {},
     "output_type": "execute_result"
    }
   ],
   "source": [
    "#cleaning data\n",
    "movieData = data[['gross', 'runtime', 'budget','votes','country','genre', 'rating', 'company', 'score']]\n",
    "movieData.shape"
   ]
  },
  {
   "cell_type": "markdown",
   "id": "d8f91d1a",
   "metadata": {},
   "source": [
    "#### Dropping company as predictor"
   ]
  },
  {
   "cell_type": "code",
   "execution_count": 5,
   "id": "53176d8d",
   "metadata": {},
   "outputs": [
    {
     "name": "stdout",
     "output_type": "stream",
     "text": [
      "                       Company  Count\n",
      "0           Universal Pictures    377\n",
      "1                 Warner Bros.    334\n",
      "2            Columbia Pictures    332\n",
      "3           Paramount Pictures    320\n",
      "4        Twentieth Century Fox    240\n",
      "...                        ...    ...\n",
      "2380  Digital Image Associates      1\n",
      "2381    Kopelson Entertainment      1\n",
      "2382              Clavius Base      1\n",
      "2383    Tim Burton Productions      1\n",
      "2384               PK 65 Films      1\n",
      "\n",
      "[2385 rows x 2 columns]\n"
     ]
    }
   ],
   "source": [
    "company_counts = movieData['company'].value_counts()\n",
    "company_counts_df = pd.DataFrame(company_counts)\n",
    "company_counts_df = company_counts.reset_index()\n",
    "company_counts_df.columns = ['Company', 'Count']\n",
    "print(company_counts_df)"
   ]
  },
  {
   "cell_type": "markdown",
   "id": "2da73455",
   "metadata": {},
   "source": [
    "As for the 'company' variable, we chose not to include it in the analysis due to the lack of informative insights caused by the sheer amount of categories. As you can see, there are 2385 different companies. Including a categorical variable with this many levels can significantly increase the complexity of our model. Furthermore, some companies have only a few movies associated with them, leading to sparse data for those categories. Sparse data can make it difficult for the model to learn meaningful patterns and relationships.\n",
    "\n",
    "Therefore, we have decided to drop company as one of our categorical predictors although we intially wanted to use it because we thought it would be useful."
   ]
  },
  {
   "cell_type": "code",
   "execution_count": 6,
   "id": "2a2359ac",
   "metadata": {},
   "outputs": [],
   "source": [
    "movieData = movieData.copy()\n",
    "movieData.drop(columns=['company'], inplace=True)"
   ]
  },
  {
   "cell_type": "markdown",
   "id": "57819a61",
   "metadata": {},
   "source": [
    "#### Dropping null values"
   ]
  },
  {
   "cell_type": "markdown",
   "id": "881145c1",
   "metadata": {},
   "source": [
    "We perform a quick check to see if there are any NaN values and drop them from our dataset. Dropping these rows ensures that we have a clean dataset to work with, as missing values can disrupt our analysis."
   ]
  },
  {
   "cell_type": "code",
   "execution_count": 7,
   "id": "22f3fe6a",
   "metadata": {},
   "outputs": [
    {
     "name": "stdout",
     "output_type": "stream",
     "text": [
      "The shape of the new dataset: (5423, 8)\n"
     ]
    }
   ],
   "source": [
    "# drop all the NaN values\n",
    "movieData = movieData.dropna()\n",
    "\n",
    "# reset the index of the rows of the DataFrame\n",
    "movieData = movieData.reset_index(drop=True)\n",
    "\n",
    "print(f\"The shape of the new dataset: {movieData.shape}\")"
   ]
  },
  {
   "cell_type": "code",
   "execution_count": 8,
   "id": "ae8fcfe3",
   "metadata": {},
   "outputs": [
    {
     "data": {
      "text/plain": [
       "False"
      ]
     },
     "execution_count": 8,
     "metadata": {},
     "output_type": "execute_result"
    }
   ],
   "source": [
    "# checking if NaNs exist in our dataset after dropping\n",
    "movieData.isnull().values.any()"
   ]
  },
  {
   "cell_type": "code",
   "execution_count": 9,
   "id": "24449861",
   "metadata": {},
   "outputs": [
    {
     "data": {
      "text/html": [
       "<div>\n",
       "<style scoped>\n",
       "    .dataframe tbody tr th:only-of-type {\n",
       "        vertical-align: middle;\n",
       "    }\n",
       "\n",
       "    .dataframe tbody tr th {\n",
       "        vertical-align: top;\n",
       "    }\n",
       "\n",
       "    .dataframe thead th {\n",
       "        text-align: right;\n",
       "    }\n",
       "</style>\n",
       "<table border=\"1\" class=\"dataframe\">\n",
       "  <thead>\n",
       "    <tr style=\"text-align: right;\">\n",
       "      <th></th>\n",
       "      <th>gross</th>\n",
       "      <th>runtime</th>\n",
       "      <th>budget</th>\n",
       "      <th>votes</th>\n",
       "      <th>country</th>\n",
       "      <th>genre</th>\n",
       "      <th>rating</th>\n",
       "      <th>score</th>\n",
       "    </tr>\n",
       "  </thead>\n",
       "  <tbody>\n",
       "    <tr>\n",
       "      <th>0</th>\n",
       "      <td>46998772.0</td>\n",
       "      <td>146.0</td>\n",
       "      <td>19000000.0</td>\n",
       "      <td>927000.0</td>\n",
       "      <td>United Kingdom</td>\n",
       "      <td>Drama</td>\n",
       "      <td>R</td>\n",
       "      <td>8.4</td>\n",
       "    </tr>\n",
       "    <tr>\n",
       "      <th>1</th>\n",
       "      <td>58853106.0</td>\n",
       "      <td>104.0</td>\n",
       "      <td>4500000.0</td>\n",
       "      <td>65000.0</td>\n",
       "      <td>United States</td>\n",
       "      <td>Adventure</td>\n",
       "      <td>R</td>\n",
       "      <td>5.8</td>\n",
       "    </tr>\n",
       "    <tr>\n",
       "      <th>2</th>\n",
       "      <td>538375067.0</td>\n",
       "      <td>124.0</td>\n",
       "      <td>18000000.0</td>\n",
       "      <td>1200000.0</td>\n",
       "      <td>United States</td>\n",
       "      <td>Action</td>\n",
       "      <td>PG</td>\n",
       "      <td>8.7</td>\n",
       "    </tr>\n",
       "    <tr>\n",
       "      <th>3</th>\n",
       "      <td>83453539.0</td>\n",
       "      <td>88.0</td>\n",
       "      <td>3500000.0</td>\n",
       "      <td>221000.0</td>\n",
       "      <td>United States</td>\n",
       "      <td>Comedy</td>\n",
       "      <td>PG</td>\n",
       "      <td>7.7</td>\n",
       "    </tr>\n",
       "    <tr>\n",
       "      <th>4</th>\n",
       "      <td>39846344.0</td>\n",
       "      <td>98.0</td>\n",
       "      <td>6000000.0</td>\n",
       "      <td>108000.0</td>\n",
       "      <td>United States</td>\n",
       "      <td>Comedy</td>\n",
       "      <td>R</td>\n",
       "      <td>7.3</td>\n",
       "    </tr>\n",
       "  </tbody>\n",
       "</table>\n",
       "</div>"
      ],
      "text/plain": [
       "         gross  runtime      budget      votes         country      genre  \\\n",
       "0   46998772.0    146.0  19000000.0   927000.0  United Kingdom      Drama   \n",
       "1   58853106.0    104.0   4500000.0    65000.0   United States  Adventure   \n",
       "2  538375067.0    124.0  18000000.0  1200000.0   United States     Action   \n",
       "3   83453539.0     88.0   3500000.0   221000.0   United States     Comedy   \n",
       "4   39846344.0     98.0   6000000.0   108000.0   United States     Comedy   \n",
       "\n",
       "  rating  score  \n",
       "0      R    8.4  \n",
       "1      R    5.8  \n",
       "2     PG    8.7  \n",
       "3     PG    7.7  \n",
       "4      R    7.3  "
      ]
     },
     "execution_count": 9,
     "metadata": {},
     "output_type": "execute_result"
    }
   ],
   "source": [
    "movieData.head()"
   ]
  },
  {
   "cell_type": "code",
   "execution_count": 11,
   "id": "db4473d0",
   "metadata": {},
   "outputs": [],
   "source": [
    "movieData.to_csv('cleaned-movie-dataset.csv', index=False)"
   ]
  }
 ],
 "metadata": {
  "kernelspec": {
   "display_name": "Python 3 (ipykernel)",
   "language": "python",
   "name": "python3"
  },
  "language_info": {
   "codemirror_mode": {
    "name": "ipython",
    "version": 3
   },
   "file_extension": ".py",
   "mimetype": "text/x-python",
   "name": "python",
   "nbconvert_exporter": "python",
   "pygments_lexer": "ipython3",
   "version": "3.11.4"
  }
 },
 "nbformat": 4,
 "nbformat_minor": 5
}
